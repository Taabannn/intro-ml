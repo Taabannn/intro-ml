{
 "cells": [
  {
   "cell_type": "markdown",
   "id": "77113b0e",
   "metadata": {},
   "source": [
    "# Your project\n",
    "here I will show you how you have to do your work"
   ]
  },
  {
   "cell_type": "code",
   "execution_count": 1,
   "id": "7fcc33a8",
   "metadata": {},
   "outputs": [],
   "source": [
    "import math"
   ]
  },
  {
   "cell_type": "code",
   "execution_count": 5,
   "id": "385ae9da",
   "metadata": {},
   "outputs": [],
   "source": [
    "def add(a, b):\n",
    "    return a + b"
   ]
  },
  {
   "cell_type": "markdown",
   "id": "2dbc3622",
   "metadata": {},
   "source": [
    "### now lets do the work"
   ]
  },
  {
   "cell_type": "code",
   "execution_count": 6,
   "id": "b0648b5b",
   "metadata": {},
   "outputs": [
    {
     "data": {
      "text/plain": [
       "9"
      ]
     },
     "execution_count": 6,
     "metadata": {},
     "output_type": "execute_result"
    }
   ],
   "source": [
    "add(4, 5)"
   ]
  },
  {
   "cell_type": "markdown",
   "id": "19ed1697",
   "metadata": {},
   "source": [
    "## lets compute\n",
    "here we will compute the results\n",
    "based on the formula\n",
    "- point1\n",
    "- point2"
   ]
  }
 ],
 "metadata": {
  "kernelspec": {
   "display_name": "Python 3 (ipykernel)",
   "language": "python",
   "name": "python3"
  },
  "language_info": {
   "codemirror_mode": {
    "name": "ipython",
    "version": 3
   },
   "file_extension": ".py",
   "mimetype": "text/x-python",
   "name": "python",
   "nbconvert_exporter": "python",
   "pygments_lexer": "ipython3",
   "version": "3.9.6"
  }
 },
 "nbformat": 4,
 "nbformat_minor": 5
}
