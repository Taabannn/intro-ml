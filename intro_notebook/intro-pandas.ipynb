{
 "cells": [
  {
   "cell_type": "markdown",
   "id": "e02d769e",
   "metadata": {},
   "source": [
    "# Pandas"
   ]
  },
  {
   "cell_type": "code",
   "execution_count": 1,
   "id": "e233291a",
   "metadata": {},
   "outputs": [],
   "source": [
    "import pandas as pd\n",
    "import numpy as np\n",
    "import openpyxl"
   ]
  },
  {
   "cell_type": "code",
   "execution_count": 2,
   "id": "63f46fca",
   "metadata": {},
   "outputs": [
    {
     "data": {
      "text/plain": [
       "0       1\n",
       "1       2\n",
       "2    jadi\n",
       "3       3\n",
       "4     NaN\n",
       "dtype: object"
      ]
     },
     "execution_count": 2,
     "metadata": {},
     "output_type": "execute_result"
    }
   ],
   "source": [
    "pd.Series([1, 2, 'jadi', 3, np.nan])"
   ]
  },
  {
   "cell_type": "code",
   "execution_count": 3,
   "id": "b8ade9fd",
   "metadata": {},
   "outputs": [
    {
     "data": {
      "text/plain": [
       "DatetimeIndex(['2022-01-01', '2022-01-02', '2022-01-03', '2022-01-04',\n",
       "               '2022-01-05', '2022-01-06'],\n",
       "              dtype='datetime64[ns]', freq='D')"
      ]
     },
     "execution_count": 3,
     "metadata": {},
     "output_type": "execute_result"
    }
   ],
   "source": [
    "dates = pd.date_range(\"20220101\", periods=6)\n",
    "dates"
   ]
  },
  {
   "cell_type": "code",
   "execution_count": 4,
   "id": "1c854cfb",
   "metadata": {},
   "outputs": [
    {
     "data": {
      "text/html": [
       "<div>\n",
       "<style scoped>\n",
       "    .dataframe tbody tr th:only-of-type {\n",
       "        vertical-align: middle;\n",
       "    }\n",
       "\n",
       "    .dataframe tbody tr th {\n",
       "        vertical-align: top;\n",
       "    }\n",
       "\n",
       "    .dataframe thead th {\n",
       "        text-align: right;\n",
       "    }\n",
       "</style>\n",
       "<table border=\"1\" class=\"dataframe\">\n",
       "  <thead>\n",
       "    <tr style=\"text-align: right;\">\n",
       "      <th></th>\n",
       "      <th>a</th>\n",
       "      <th>b</th>\n",
       "      <th>c</th>\n",
       "      <th>d</th>\n",
       "    </tr>\n",
       "  </thead>\n",
       "  <tbody>\n",
       "    <tr>\n",
       "      <th>2022-01-01</th>\n",
       "      <td>-1.307739</td>\n",
       "      <td>0.235503</td>\n",
       "      <td>1.185031</td>\n",
       "      <td>-1.049822</td>\n",
       "    </tr>\n",
       "    <tr>\n",
       "      <th>2022-01-02</th>\n",
       "      <td>-1.146558</td>\n",
       "      <td>0.474369</td>\n",
       "      <td>-0.639223</td>\n",
       "      <td>1.960478</td>\n",
       "    </tr>\n",
       "    <tr>\n",
       "      <th>2022-01-03</th>\n",
       "      <td>-0.315788</td>\n",
       "      <td>-0.134179</td>\n",
       "      <td>0.835472</td>\n",
       "      <td>0.787683</td>\n",
       "    </tr>\n",
       "    <tr>\n",
       "      <th>2022-01-04</th>\n",
       "      <td>-1.343009</td>\n",
       "      <td>0.897550</td>\n",
       "      <td>0.402764</td>\n",
       "      <td>-0.157162</td>\n",
       "    </tr>\n",
       "    <tr>\n",
       "      <th>2022-01-05</th>\n",
       "      <td>0.368980</td>\n",
       "      <td>-0.338918</td>\n",
       "      <td>1.530287</td>\n",
       "      <td>0.744675</td>\n",
       "    </tr>\n",
       "    <tr>\n",
       "      <th>2022-01-06</th>\n",
       "      <td>0.605581</td>\n",
       "      <td>-0.793444</td>\n",
       "      <td>1.456261</td>\n",
       "      <td>0.649070</td>\n",
       "    </tr>\n",
       "  </tbody>\n",
       "</table>\n",
       "</div>"
      ],
      "text/plain": [
       "                   a         b         c         d\n",
       "2022-01-01 -1.307739  0.235503  1.185031 -1.049822\n",
       "2022-01-02 -1.146558  0.474369 -0.639223  1.960478\n",
       "2022-01-03 -0.315788 -0.134179  0.835472  0.787683\n",
       "2022-01-04 -1.343009  0.897550  0.402764 -0.157162\n",
       "2022-01-05  0.368980 -0.338918  1.530287  0.744675\n",
       "2022-01-06  0.605581 -0.793444  1.456261  0.649070"
      ]
     },
     "execution_count": 4,
     "metadata": {},
     "output_type": "execute_result"
    }
   ],
   "source": [
    "df = pd.DataFrame(np.random.randn(6, 4), index=dates, columns=['a', 'b', 'c', 'd'])\n",
    "df"
   ]
  },
  {
   "cell_type": "code",
   "execution_count": 5,
   "id": "8aaf2bbd",
   "metadata": {},
   "outputs": [
    {
     "data": {
      "text/plain": [
       "2022-01-01   -1.307739\n",
       "2022-01-02   -1.146558\n",
       "2022-01-03   -0.315788\n",
       "2022-01-04   -1.343009\n",
       "2022-01-05    0.368980\n",
       "2022-01-06    0.605581\n",
       "Freq: D, Name: a, dtype: float64"
      ]
     },
     "execution_count": 5,
     "metadata": {},
     "output_type": "execute_result"
    }
   ],
   "source": [
    "df[\"a\"]"
   ]
  },
  {
   "cell_type": "code",
   "execution_count": 6,
   "id": "1f3f316f",
   "metadata": {},
   "outputs": [
    {
     "data": {
      "text/html": [
       "<div>\n",
       "<style scoped>\n",
       "    .dataframe tbody tr th:only-of-type {\n",
       "        vertical-align: middle;\n",
       "    }\n",
       "\n",
       "    .dataframe tbody tr th {\n",
       "        vertical-align: top;\n",
       "    }\n",
       "\n",
       "    .dataframe thead th {\n",
       "        text-align: right;\n",
       "    }\n",
       "</style>\n",
       "<table border=\"1\" class=\"dataframe\">\n",
       "  <thead>\n",
       "    <tr style=\"text-align: right;\">\n",
       "      <th></th>\n",
       "      <th>a</th>\n",
       "      <th>b</th>\n",
       "      <th>c</th>\n",
       "      <th>d</th>\n",
       "    </tr>\n",
       "  </thead>\n",
       "  <tbody>\n",
       "    <tr>\n",
       "      <th>2022-01-01</th>\n",
       "      <td>-1.307739</td>\n",
       "      <td>0.235503</td>\n",
       "      <td>1.185031</td>\n",
       "      <td>-1.049822</td>\n",
       "    </tr>\n",
       "    <tr>\n",
       "      <th>2022-01-02</th>\n",
       "      <td>-1.146558</td>\n",
       "      <td>0.474369</td>\n",
       "      <td>-0.639223</td>\n",
       "      <td>1.960478</td>\n",
       "    </tr>\n",
       "  </tbody>\n",
       "</table>\n",
       "</div>"
      ],
      "text/plain": [
       "                   a         b         c         d\n",
       "2022-01-01 -1.307739  0.235503  1.185031 -1.049822\n",
       "2022-01-02 -1.146558  0.474369 -0.639223  1.960478"
      ]
     },
     "execution_count": 6,
     "metadata": {},
     "output_type": "execute_result"
    }
   ],
   "source": [
    "df.head(2)"
   ]
  },
  {
   "cell_type": "code",
   "execution_count": 7,
   "id": "f0e5b39c",
   "metadata": {},
   "outputs": [
    {
     "data": {
      "text/html": [
       "<div>\n",
       "<style scoped>\n",
       "    .dataframe tbody tr th:only-of-type {\n",
       "        vertical-align: middle;\n",
       "    }\n",
       "\n",
       "    .dataframe tbody tr th {\n",
       "        vertical-align: top;\n",
       "    }\n",
       "\n",
       "    .dataframe thead th {\n",
       "        text-align: right;\n",
       "    }\n",
       "</style>\n",
       "<table border=\"1\" class=\"dataframe\">\n",
       "  <thead>\n",
       "    <tr style=\"text-align: right;\">\n",
       "      <th></th>\n",
       "      <th>a</th>\n",
       "      <th>b</th>\n",
       "      <th>c</th>\n",
       "      <th>d</th>\n",
       "    </tr>\n",
       "  </thead>\n",
       "  <tbody>\n",
       "    <tr>\n",
       "      <th>2022-01-05</th>\n",
       "      <td>0.368980</td>\n",
       "      <td>-0.338918</td>\n",
       "      <td>1.530287</td>\n",
       "      <td>0.744675</td>\n",
       "    </tr>\n",
       "    <tr>\n",
       "      <th>2022-01-06</th>\n",
       "      <td>0.605581</td>\n",
       "      <td>-0.793444</td>\n",
       "      <td>1.456261</td>\n",
       "      <td>0.649070</td>\n",
       "    </tr>\n",
       "  </tbody>\n",
       "</table>\n",
       "</div>"
      ],
      "text/plain": [
       "                   a         b         c         d\n",
       "2022-01-05  0.368980 -0.338918  1.530287  0.744675\n",
       "2022-01-06  0.605581 -0.793444  1.456261  0.649070"
      ]
     },
     "execution_count": 7,
     "metadata": {},
     "output_type": "execute_result"
    }
   ],
   "source": [
    "df.tail(2)"
   ]
  },
  {
   "cell_type": "code",
   "execution_count": 8,
   "id": "e2e40e01",
   "metadata": {},
   "outputs": [
    {
     "data": {
      "text/html": [
       "<div>\n",
       "<style scoped>\n",
       "    .dataframe tbody tr th:only-of-type {\n",
       "        vertical-align: middle;\n",
       "    }\n",
       "\n",
       "    .dataframe tbody tr th {\n",
       "        vertical-align: top;\n",
       "    }\n",
       "\n",
       "    .dataframe thead th {\n",
       "        text-align: right;\n",
       "    }\n",
       "</style>\n",
       "<table border=\"1\" class=\"dataframe\">\n",
       "  <thead>\n",
       "    <tr style=\"text-align: right;\">\n",
       "      <th></th>\n",
       "      <th>a</th>\n",
       "      <th>b</th>\n",
       "      <th>c</th>\n",
       "      <th>d</th>\n",
       "    </tr>\n",
       "  </thead>\n",
       "  <tbody>\n",
       "    <tr>\n",
       "      <th>count</th>\n",
       "      <td>6.000000</td>\n",
       "      <td>6.000000</td>\n",
       "      <td>6.000000</td>\n",
       "      <td>6.000000</td>\n",
       "    </tr>\n",
       "    <tr>\n",
       "      <th>mean</th>\n",
       "      <td>-0.523089</td>\n",
       "      <td>0.056813</td>\n",
       "      <td>0.795099</td>\n",
       "      <td>0.489154</td>\n",
       "    </tr>\n",
       "    <tr>\n",
       "      <th>std</th>\n",
       "      <td>0.870553</td>\n",
       "      <td>0.604837</td>\n",
       "      <td>0.817621</td>\n",
       "      <td>1.013010</td>\n",
       "    </tr>\n",
       "    <tr>\n",
       "      <th>min</th>\n",
       "      <td>-1.343009</td>\n",
       "      <td>-0.793444</td>\n",
       "      <td>-0.639223</td>\n",
       "      <td>-1.049822</td>\n",
       "    </tr>\n",
       "    <tr>\n",
       "      <th>25%</th>\n",
       "      <td>-1.267443</td>\n",
       "      <td>-0.287734</td>\n",
       "      <td>0.510941</td>\n",
       "      <td>0.044396</td>\n",
       "    </tr>\n",
       "    <tr>\n",
       "      <th>50%</th>\n",
       "      <td>-0.731173</td>\n",
       "      <td>0.050662</td>\n",
       "      <td>1.010252</td>\n",
       "      <td>0.696872</td>\n",
       "    </tr>\n",
       "    <tr>\n",
       "      <th>75%</th>\n",
       "      <td>0.197788</td>\n",
       "      <td>0.414653</td>\n",
       "      <td>1.388454</td>\n",
       "      <td>0.776931</td>\n",
       "    </tr>\n",
       "    <tr>\n",
       "      <th>max</th>\n",
       "      <td>0.605581</td>\n",
       "      <td>0.897550</td>\n",
       "      <td>1.530287</td>\n",
       "      <td>1.960478</td>\n",
       "    </tr>\n",
       "  </tbody>\n",
       "</table>\n",
       "</div>"
      ],
      "text/plain": [
       "              a         b         c         d\n",
       "count  6.000000  6.000000  6.000000  6.000000\n",
       "mean  -0.523089  0.056813  0.795099  0.489154\n",
       "std    0.870553  0.604837  0.817621  1.013010\n",
       "min   -1.343009 -0.793444 -0.639223 -1.049822\n",
       "25%   -1.267443 -0.287734  0.510941  0.044396\n",
       "50%   -0.731173  0.050662  1.010252  0.696872\n",
       "75%    0.197788  0.414653  1.388454  0.776931\n",
       "max    0.605581  0.897550  1.530287  1.960478"
      ]
     },
     "execution_count": 8,
     "metadata": {},
     "output_type": "execute_result"
    }
   ],
   "source": [
    "df.describe()"
   ]
  },
  {
   "cell_type": "code",
   "execution_count": 9,
   "id": "09f4d4b4",
   "metadata": {},
   "outputs": [
    {
     "data": {
      "text/plain": [
       "a   -0.523089\n",
       "b    0.056813\n",
       "c    0.795099\n",
       "d    0.489154\n",
       "dtype: float64"
      ]
     },
     "execution_count": 9,
     "metadata": {},
     "output_type": "execute_result"
    }
   ],
   "source": [
    "df.mean()"
   ]
  },
  {
   "cell_type": "code",
   "execution_count": 10,
   "id": "97ea7cc4",
   "metadata": {},
   "outputs": [
    {
     "data": {
      "text/plain": [
       "-0.5230887599037596"
      ]
     },
     "execution_count": 10,
     "metadata": {},
     "output_type": "execute_result"
    }
   ],
   "source": [
    "df[\"a\"].mean()"
   ]
  },
  {
   "cell_type": "code",
   "execution_count": 11,
   "id": "5d2404b0",
   "metadata": {},
   "outputs": [
    {
     "data": {
      "text/html": [
       "<div>\n",
       "<style scoped>\n",
       "    .dataframe tbody tr th:only-of-type {\n",
       "        vertical-align: middle;\n",
       "    }\n",
       "\n",
       "    .dataframe tbody tr th {\n",
       "        vertical-align: top;\n",
       "    }\n",
       "\n",
       "    .dataframe thead th {\n",
       "        text-align: right;\n",
       "    }\n",
       "</style>\n",
       "<table border=\"1\" class=\"dataframe\">\n",
       "  <thead>\n",
       "    <tr style=\"text-align: right;\">\n",
       "      <th></th>\n",
       "      <th>2022-01-01</th>\n",
       "      <th>2022-01-02</th>\n",
       "      <th>2022-01-03</th>\n",
       "      <th>2022-01-04</th>\n",
       "      <th>2022-01-05</th>\n",
       "      <th>2022-01-06</th>\n",
       "    </tr>\n",
       "  </thead>\n",
       "  <tbody>\n",
       "    <tr>\n",
       "      <th>a</th>\n",
       "      <td>-1.307739</td>\n",
       "      <td>-1.146558</td>\n",
       "      <td>-0.315788</td>\n",
       "      <td>-1.343009</td>\n",
       "      <td>0.368980</td>\n",
       "      <td>0.605581</td>\n",
       "    </tr>\n",
       "    <tr>\n",
       "      <th>b</th>\n",
       "      <td>0.235503</td>\n",
       "      <td>0.474369</td>\n",
       "      <td>-0.134179</td>\n",
       "      <td>0.897550</td>\n",
       "      <td>-0.338918</td>\n",
       "      <td>-0.793444</td>\n",
       "    </tr>\n",
       "    <tr>\n",
       "      <th>c</th>\n",
       "      <td>1.185031</td>\n",
       "      <td>-0.639223</td>\n",
       "      <td>0.835472</td>\n",
       "      <td>0.402764</td>\n",
       "      <td>1.530287</td>\n",
       "      <td>1.456261</td>\n",
       "    </tr>\n",
       "    <tr>\n",
       "      <th>d</th>\n",
       "      <td>-1.049822</td>\n",
       "      <td>1.960478</td>\n",
       "      <td>0.787683</td>\n",
       "      <td>-0.157162</td>\n",
       "      <td>0.744675</td>\n",
       "      <td>0.649070</td>\n",
       "    </tr>\n",
       "  </tbody>\n",
       "</table>\n",
       "</div>"
      ],
      "text/plain": [
       "   2022-01-01  2022-01-02  2022-01-03  2022-01-04  2022-01-05  2022-01-06\n",
       "a   -1.307739   -1.146558   -0.315788   -1.343009    0.368980    0.605581\n",
       "b    0.235503    0.474369   -0.134179    0.897550   -0.338918   -0.793444\n",
       "c    1.185031   -0.639223    0.835472    0.402764    1.530287    1.456261\n",
       "d   -1.049822    1.960478    0.787683   -0.157162    0.744675    0.649070"
      ]
     },
     "execution_count": 11,
     "metadata": {},
     "output_type": "execute_result"
    }
   ],
   "source": [
    "df.T"
   ]
  },
  {
   "cell_type": "code",
   "execution_count": 12,
   "id": "6f4df279",
   "metadata": {},
   "outputs": [
    {
     "data": {
      "text/html": [
       "<div>\n",
       "<style scoped>\n",
       "    .dataframe tbody tr th:only-of-type {\n",
       "        vertical-align: middle;\n",
       "    }\n",
       "\n",
       "    .dataframe tbody tr th {\n",
       "        vertical-align: top;\n",
       "    }\n",
       "\n",
       "    .dataframe thead th {\n",
       "        text-align: right;\n",
       "    }\n",
       "</style>\n",
       "<table border=\"1\" class=\"dataframe\">\n",
       "  <thead>\n",
       "    <tr style=\"text-align: right;\">\n",
       "      <th></th>\n",
       "      <th>a</th>\n",
       "      <th>b</th>\n",
       "      <th>c</th>\n",
       "      <th>d</th>\n",
       "    </tr>\n",
       "  </thead>\n",
       "  <tbody>\n",
       "    <tr>\n",
       "      <th>2022-01-06</th>\n",
       "      <td>0.605581</td>\n",
       "      <td>-0.793444</td>\n",
       "      <td>1.456261</td>\n",
       "      <td>0.649070</td>\n",
       "    </tr>\n",
       "    <tr>\n",
       "      <th>2022-01-05</th>\n",
       "      <td>0.368980</td>\n",
       "      <td>-0.338918</td>\n",
       "      <td>1.530287</td>\n",
       "      <td>0.744675</td>\n",
       "    </tr>\n",
       "    <tr>\n",
       "      <th>2022-01-03</th>\n",
       "      <td>-0.315788</td>\n",
       "      <td>-0.134179</td>\n",
       "      <td>0.835472</td>\n",
       "      <td>0.787683</td>\n",
       "    </tr>\n",
       "    <tr>\n",
       "      <th>2022-01-01</th>\n",
       "      <td>-1.307739</td>\n",
       "      <td>0.235503</td>\n",
       "      <td>1.185031</td>\n",
       "      <td>-1.049822</td>\n",
       "    </tr>\n",
       "    <tr>\n",
       "      <th>2022-01-02</th>\n",
       "      <td>-1.146558</td>\n",
       "      <td>0.474369</td>\n",
       "      <td>-0.639223</td>\n",
       "      <td>1.960478</td>\n",
       "    </tr>\n",
       "    <tr>\n",
       "      <th>2022-01-04</th>\n",
       "      <td>-1.343009</td>\n",
       "      <td>0.897550</td>\n",
       "      <td>0.402764</td>\n",
       "      <td>-0.157162</td>\n",
       "    </tr>\n",
       "  </tbody>\n",
       "</table>\n",
       "</div>"
      ],
      "text/plain": [
       "                   a         b         c         d\n",
       "2022-01-06  0.605581 -0.793444  1.456261  0.649070\n",
       "2022-01-05  0.368980 -0.338918  1.530287  0.744675\n",
       "2022-01-03 -0.315788 -0.134179  0.835472  0.787683\n",
       "2022-01-01 -1.307739  0.235503  1.185031 -1.049822\n",
       "2022-01-02 -1.146558  0.474369 -0.639223  1.960478\n",
       "2022-01-04 -1.343009  0.897550  0.402764 -0.157162"
      ]
     },
     "execution_count": 12,
     "metadata": {},
     "output_type": "execute_result"
    }
   ],
   "source": [
    "df.sort_values(by=\"b\")"
   ]
  },
  {
   "cell_type": "code",
   "execution_count": 13,
   "id": "93661e3c",
   "metadata": {},
   "outputs": [
    {
     "data": {
      "text/html": [
       "<div>\n",
       "<style scoped>\n",
       "    .dataframe tbody tr th:only-of-type {\n",
       "        vertical-align: middle;\n",
       "    }\n",
       "\n",
       "    .dataframe tbody tr th {\n",
       "        vertical-align: top;\n",
       "    }\n",
       "\n",
       "    .dataframe thead th {\n",
       "        text-align: right;\n",
       "    }\n",
       "</style>\n",
       "<table border=\"1\" class=\"dataframe\">\n",
       "  <thead>\n",
       "    <tr style=\"text-align: right;\">\n",
       "      <th></th>\n",
       "      <th>a</th>\n",
       "      <th>b</th>\n",
       "      <th>c</th>\n",
       "      <th>d</th>\n",
       "    </tr>\n",
       "  </thead>\n",
       "  <tbody>\n",
       "    <tr>\n",
       "      <th>2022-01-05</th>\n",
       "      <td>0.368980</td>\n",
       "      <td>-0.338918</td>\n",
       "      <td>1.530287</td>\n",
       "      <td>0.744675</td>\n",
       "    </tr>\n",
       "    <tr>\n",
       "      <th>2022-01-06</th>\n",
       "      <td>0.605581</td>\n",
       "      <td>-0.793444</td>\n",
       "      <td>1.456261</td>\n",
       "      <td>0.649070</td>\n",
       "    </tr>\n",
       "  </tbody>\n",
       "</table>\n",
       "</div>"
      ],
      "text/plain": [
       "                   a         b         c         d\n",
       "2022-01-05  0.368980 -0.338918  1.530287  0.744675\n",
       "2022-01-06  0.605581 -0.793444  1.456261  0.649070"
      ]
     },
     "execution_count": 13,
     "metadata": {},
     "output_type": "execute_result"
    }
   ],
   "source": [
    "df[df[\"a\"]>0]"
   ]
  },
  {
   "cell_type": "markdown",
   "id": "e1cb57ca",
   "metadata": {},
   "source": [
    "## read & write operations\n",
    "- df.read_csv(\"myfile.csv\") (for reading a csv file)"
   ]
  },
  {
   "cell_type": "code",
   "execution_count": 14,
   "id": "c86a09b6",
   "metadata": {},
   "outputs": [],
   "source": [
    "df.to_csv(\"intro-pandas.csv\")"
   ]
  },
  {
   "cell_type": "markdown",
   "id": "12114571",
   "metadata": {},
   "source": [
    "#### csv = comma seperated values"
   ]
  },
  {
   "cell_type": "code",
   "execution_count": 15,
   "id": "b7d5fad9",
   "metadata": {},
   "outputs": [],
   "source": [
    "df.to_excel('intro-pandas.xlsx')"
   ]
  }
 ],
 "metadata": {
  "kernelspec": {
   "display_name": "Python 3 (ipykernel)",
   "language": "python",
   "name": "python3"
  },
  "language_info": {
   "codemirror_mode": {
    "name": "ipython",
    "version": 3
   },
   "file_extension": ".py",
   "mimetype": "text/x-python",
   "name": "python",
   "nbconvert_exporter": "python",
   "pygments_lexer": "ipython3",
   "version": "3.9.6"
  }
 },
 "nbformat": 4,
 "nbformat_minor": 5
}
