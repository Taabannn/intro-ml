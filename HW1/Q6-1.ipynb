{
 "cells": [
  {
   "cell_type": "markdown",
   "metadata": {
    "id": "k4O0IbnJo1UY"
   },
   "source": [
    "# <font color='green'>Homework 1</font>\n",
    "\n",
    "<div class=\"alert alert-block alert-warning\">\n",
    "<b>\n",
    "University of Tehran<br>\n",
    "Fall 2022<br>\n",
    "Course: Machine Learning<br>\n",
    "</div>\n",
    "\n",
    "\n",
    "***"
   ]
  },
  {
   "cell_type": "markdown",
   "metadata": {
    "id": "LaDWQq1Ko1Ub"
   },
   "source": [
    "<div class=\"alert alert-block alert-success\">\n",
    "<b>Author:</b><br>\n",
    "Name: Taban Soleymani <br />\n",
    "Student Number: 810100377\n",
    "</div>\n",
    "\n",
    "***"
   ]
  },
  {
   "cell_type": "markdown",
   "metadata": {
    "id": "xjRbI6Yqo1Ud"
   },
   "source": [
    "# <span style=\"color:purple\">Importing Required Packages and Classes</span>"
   ]
  },
  {
   "cell_type": "code",
   "execution_count": 1,
   "metadata": {
    "id": "a3b8nxxHo1Ue"
   },
   "outputs": [],
   "source": [
    "import numpy as np\n",
    "import pandas as pd\n",
    "import matplotlib.pyplot as plt\n",
    "import seaborn as sns\n",
    "from PIL import Image\n",
    "from statistics import mean"
   ]
  },
  {
   "cell_type": "markdown",
   "metadata": {},
   "source": [
    "# <span style=\"color:purple\">Defining Variables</span>"
   ]
  },
  {
   "cell_type": "code",
   "execution_count": 2,
   "metadata": {},
   "outputs": [],
   "source": [
    "global num_of_j_images\n",
    "global num_of_s_images\n",
    "num_of_j_images = 42\n",
    "num_of_s_images = 40\n",
    "\n",
    "labels = []\n",
    "file_names = []\n",
    "average_red_light = []\n",
    "average_blue_light = []\n",
    "average_green_light = []"
   ]
  },
  {
   "cell_type": "markdown",
   "metadata": {},
   "source": [
    "# <span style=\"color:purple\">Question 6</span>"
   ]
  },
  {
   "cell_type": "code",
   "execution_count": 3,
   "metadata": {},
   "outputs": [],
   "source": [
    "for j in range(num_of_j_images):\n",
    "    file_name = \"\\j%d.jpg\" % (j+1)\n",
    "    file_location = \"Data\\image\" + file_name\n",
    "    im = Image.open(file_location)\n",
    "    pix = im.load()\n",
    "    red_light = []\n",
    "    blue_light = []\n",
    "    green_light = []\n",
    "    for x in range(im.size[0]):\n",
    "        for y in range(im.size[1]):\n",
    "            pixcel = pix[x, y]\n",
    "            red_light.append(pixcel[0])\n",
    "            green_light.append(pixcel[1])\n",
    "            blue_light.append(pixcel[2])\n",
    "           \n",
    "    labels.append('j')\n",
    "    file_names.append(file_name)\n",
    "    average_red_light.append(round(mean(red_light)))\n",
    "    average_green_light.append(round(mean(green_light)))\n",
    "    average_blue_light.append(round(mean(blue_light)))\n",
    "    "
   ]
  },
  {
   "cell_type": "code",
   "execution_count": 4,
   "metadata": {},
   "outputs": [],
   "source": [
    "for s in range(num_of_s_images):\n",
    "    file_name = \"\\s%d.jpg\" % (s+1)\n",
    "    file_location = \"Data\\image\" + file_name\n",
    "    im = Image.open(file_location)\n",
    "    pix = im.load()\n",
    "    red_light = []\n",
    "    blue_light = []\n",
    "    green_light = []\n",
    "    for x in range(im.size[0]):\n",
    "        for y in range(im.size[1]):\n",
    "            pixcel = pix[x, y]\n",
    "            red_light.append(pixcel[0])\n",
    "            green_light.append(pixcel[1])\n",
    "            blue_light.append(pixcel[2])\n",
    "           \n",
    "    labels.append('s')\n",
    "    file_names.append(file_name)\n",
    "    average_red_light.append(round(mean(red_light)))\n",
    "    average_green_light.append(round(mean(green_light)))\n",
    "    average_blue_light.append(round(mean(blue_light)))\n",
    "    "
   ]
  },
  {
   "cell_type": "code",
   "execution_count": 5,
   "metadata": {},
   "outputs": [
    {
     "name": "stdout",
     "output_type": "stream",
     "text": [
      "head\n",
      "         red  green  blue label\n",
      "\\j1.jpg   71     99    71     j\n",
      "\\j2.jpg   98    113    98     j\n",
      "\\j3.jpg   64     90    64     j\n",
      "\\j4.jpg   74     82    74     j\n",
      "\\j5.jpg   39     66    39     j\n",
      "\n",
      "\n",
      "tail\n",
      "          red  green  blue label\n",
      "\\s36.jpg   38     88    38     s\n",
      "\\s37.jpg  105    129   105     s\n",
      "\\s38.jpg   37    114    37     s\n",
      "\\s39.jpg   75    146    75     s\n",
      "\\s40.jpg   45    104    45     s\n"
     ]
    }
   ],
   "source": [
    "raw_data = {'red': average_red_light,\n",
    "            'green': average_green_light,\n",
    "            'blue': average_red_light,\n",
    "            'label': labels,\n",
    "           }\n",
    "\n",
    "df = pd.DataFrame(raw_data, index = file_names, columns = ['red', 'green', 'blue', 'label'])\n",
    "print(\"head\")\n",
    "print(df.head(5))\n",
    "print(\"\\n\\ntail\")\n",
    "print(df.tail(5))"
   ]
  },
  {
   "cell_type": "code",
   "execution_count": 6,
   "metadata": {},
   "outputs": [],
   "source": [
    "mask = np.random.rand(len(df)) < 0.7\n",
    "\n",
    "train_red = (df['red'])[mask]\n",
    "test_red = (df['red'])[~mask]\n",
    "\n",
    "train_green = (df['green'])[mask]\n",
    "test_green = (df['green'])[~mask]\n",
    "\n",
    "train_blue = (df['blue'])[mask]\n",
    "test_blue = (df['blue'])[~mask]\n",
    "\n",
    "train_labels = (df['label'])[mask]\n",
    "test_labels = (df['label'])[~mask]"
   ]
  },
  {
   "cell_type": "code",
   "execution_count": 7,
   "metadata": {},
   "outputs": [
    {
     "name": "stdout",
     "output_type": "stream",
     "text": [
      "[[1299.44    0.      0.  ]\n",
      " [   0.    707.29    0.  ]\n",
      " [   0.      0.   1299.44]]\n",
      "[[1171.24333333    0.            0.        ]\n",
      " [   0.          945.26          0.        ]\n",
      " [   0.            0.         1171.24333333]]\n"
     ]
    }
   ],
   "source": [
    "np_train_red = np.array(train_red)\n",
    "#np_test_red = np.array(test_red)\n",
    "\n",
    "np_train_green = np.array(train_green)\n",
    "#np_test_green = np.array(test_green)\n",
    "\n",
    "np_train_blue = np.array(train_blue)\n",
    "#np_test_blue = np.array(test_blue)\n",
    "\n",
    "np_train_labels = np.array(train_labels)\n",
    "#np_test_labels = np.array(test_labels)\n",
    "\n",
    "mu_red_j = mean(np_train_red[np_train_labels=='j'])\n",
    "mu_green_j = mean(np_train_green[np_train_labels=='j'])\n",
    "mu_blue_j = mean(np_train_blue[np_train_labels=='j'])\n",
    "                  \n",
    "mu_red_s = mean(np_train_red[np_train_labels=='s'])\n",
    "mu_green_s = mean(np_train_green[np_train_labels=='s'])\n",
    "mu_blue_s = mean(np_train_blue[np_train_labels=='s'])              \n",
    "\n",
    "x_j = np.vstack([np_train_red[np_train_labels=='j'], np_train_green[np_train_labels=='j'], np_train_blue[np_train_labels=='j']])\n",
    "cov_j = np.cov(x_j)\n",
    "cov_j[0][1] = 0\n",
    "cov_j[0][2] = 0\n",
    "cov_j[1][0] = 0\n",
    "cov_j[1][2] = 0\n",
    "cov_j[2][0] = 0\n",
    "cov_j[2][1] = 0\n",
    "print(cov_j)\n",
    "\n",
    "x_s = np.vstack([np_train_red[np_train_labels=='s'], np_train_green[np_train_labels=='s'], np_train_blue[np_train_labels=='s']])\n",
    "cov_s = np.cov(x_s)\n",
    "cov_s[0][1] = 0\n",
    "cov_s[0][2] = 0\n",
    "cov_s[1][0] = 0\n",
    "cov_s[1][2] = 0\n",
    "cov_s[2][0] = 0\n",
    "cov_s[2][1] = 0\n",
    "print(cov_s)"
   ]
  },
  {
   "cell_type": "code",
   "execution_count": 8,
   "metadata": {},
   "outputs": [
    {
     "name": "stdout",
     "output_type": "stream",
     "text": [
      "['j', 'j', 'j', 's', 'j', 'j', 'j', 's', 'j', 'j', 's', 'j', 'j', 'j', 'j', 'j', 's', 's', 'j', 's', 's', 's', 's', 's', 's', 's', 's', 's', 's', 'j', 's', 'j']\n",
      "\\j3.jpg     j\n",
      "\\j5.jpg     j\n",
      "\\j10.jpg    j\n",
      "\\j12.jpg    j\n",
      "\\j14.jpg    j\n",
      "\\j15.jpg    j\n",
      "\\j17.jpg    j\n",
      "\\j19.jpg    j\n",
      "\\j20.jpg    j\n",
      "\\j22.jpg    j\n",
      "\\j27.jpg    j\n",
      "\\j32.jpg    j\n",
      "\\j33.jpg    j\n",
      "\\j34.jpg    j\n",
      "\\j38.jpg    j\n",
      "\\j40.jpg    j\n",
      "\\j41.jpg    j\n",
      "\\s4.jpg     s\n",
      "\\s6.jpg     s\n",
      "\\s8.jpg     s\n",
      "\\s9.jpg     s\n",
      "\\s16.jpg    s\n",
      "\\s18.jpg    s\n",
      "\\s20.jpg    s\n",
      "\\s26.jpg    s\n",
      "\\s28.jpg    s\n",
      "\\s29.jpg    s\n",
      "\\s32.jpg    s\n",
      "\\s34.jpg    s\n",
      "\\s36.jpg    s\n",
      "\\s37.jpg    s\n",
      "\\s38.jpg    s\n",
      "Name: label, dtype: object\n"
     ]
    }
   ],
   "source": [
    "from scipy.stats import multivariate_normal\n",
    "\n",
    "likelihood_j = multivariate_normal(mean=[mu_red_j, mu_green_j, mu_blue_j], cov=cov_j)\n",
    "likelihood_s = multivariate_normal(mean=[mu_red_s, mu_green_s, mu_blue_s], cov=cov_s)\n",
    "\n",
    "predicted_labels = []\n",
    "\n",
    "for index in range (len(test_labels)):\n",
    "    lj = likelihood_j.pdf([test_red[index], test_green[index], test_blue[index]])\n",
    "    ls = likelihood_s.pdf([test_red[index], test_green[index], test_blue[index]])\n",
    "    if (lj >= ls):\n",
    "        predicted_labels.append('j')\n",
    "    else:\n",
    "        predicted_labels.append('s')\n",
    "        \n",
    "print(predicted_labels)\n",
    "print(test_labels)"
   ]
  },
  {
   "cell_type": "code",
   "execution_count": 14,
   "metadata": {},
   "outputs": [],
   "source": [
    "from sklearn.metrics import confusion_matrix, ConfusionMatrixDisplay\n",
    "\n",
    "confusion_matrix = confusion_matrix(test_labels, predicted_labels)\n",
    "tn, fp, fn, tp = confusion_matrix.ravel()"
   ]
  },
  {
   "cell_type": "code",
   "execution_count": 16,
   "metadata": {},
   "outputs": [
    {
     "name": "stdout",
     "output_type": "stream",
     "text": [
      "accuracy: 0.78125\n",
      "precision: 0.75\n",
      "recall: 0.8\n"
     ]
    },
    {
     "data": {
      "image/png": "[encoded data removed]",
      "text/plain": [
       "<Figure size 640x480 with 2 Axes>"
      ]
     },
     "metadata": {},
     "output_type": "display_data"
    }
   ],
   "source": [
    "accuracy = sum(1 for x, y in zip(test_labels, predicted_labels) if x == y) / len(test_labels)\n",
    "precision = tp / (tp + fp)\n",
    "recall = tp / (tp + fn)\n",
    "\n",
    "print(\"accuracy:\", accuracy)\n",
    "print(\"precision:\", precision)\n",
    "print(\"recall:\", recall)\n",
    "\n",
    "cm_display = ConfusionMatrixDisplay(confusion_matrix=confusion_matrix, display_labels=[False, True])\n",
    "cm_display.plot()\n",
    "plt.show() "
   ]
  }
 ],
 "metadata": {
  "colab": {
   "collapsed_sections": [],
   "name": "Taban_Soleymani_StudentNumber_HomeworkBonus(1).ipynb",
   "provenance": []
  },
  "kernelspec": {
   "display_name": "Python 3 (ipykernel)",
   "language": "python",
   "name": "python3"
  },
  "language_info": {
   "codemirror_mode": {
    "name": "ipython",
    "version": 3
   },
   "file_extension": ".py",
   "mimetype": "text/x-python",
   "name": "python",
   "nbconvert_exporter": "python",
   "pygments_lexer": "ipython3",
   "version": "3.11.2"
  },
  "vscode": {
   "interpreter": {
    "hash": "690fcc030dbde6f3f652c519b06a0d95da528e66105ed58c88e506e5818277cb"
   }
  }
 },
 "nbformat": 4,
 "nbformat_minor": 1
}
