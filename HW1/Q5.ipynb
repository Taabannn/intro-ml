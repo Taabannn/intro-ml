{
 "cells": [
  {
   "cell_type": "markdown",
   "metadata": {
    "id": "k4O0IbnJo1UY"
   },
   "source": [
    "# <font color='green'>Homework 1</font>\n",
    "\n",
    "<div class=\"alert alert-block alert-warning\">\n",
    "<b>\n",
    "University of Tehran<br>\n",
    "Fall 2022<br>\n",
    "Course: Machine Learning<br>\n",
    "</div>\n",
    "\n",
    "\n",
    "***"
   ]
  },
  {
   "cell_type": "markdown",
   "metadata": {
    "id": "LaDWQq1Ko1Ub"
   },
   "source": [
    "<div class=\"alert alert-block alert-success\">\n",
    "<b>Author:</b><br>\n",
    "Name: Taban Soleymani <br />\n",
    "Student Number: 810100377\n",
    "</div>\n",
    "\n",
    "***"
   ]
  },
  {
   "cell_type": "markdown",
   "metadata": {
    "id": "xjRbI6Yqo1Ud"
   },
   "source": [
    "# <span style=\"color:purple\">Importing Required Packages and Classes</span>"
   ]
  },
  {
   "cell_type": "code",
   "execution_count": 1,
   "metadata": {
    "id": "a3b8nxxHo1Ue"
   },
   "outputs": [],
   "source": [
    "import numpy as np\n",
    "import pandas as pd\n",
    "import matplotlib.pyplot as plt\n",
    "import seaborn as sns\n",
    "from PIL import Image\n",
    "from statistics import mean"
   ]
  },
  {
   "cell_type": "markdown",
   "metadata": {},
   "source": [
    "# <span style=\"color:purple\">Question 5</span>"
   ]
  },
  {
   "cell_type": "code",
   "execution_count": 2,
   "metadata": {},
   "outputs": [
    {
     "data": {
      "text/html": [
       "<div>\n",
       "<style scoped>\n",
       "    .dataframe tbody tr th:only-of-type {\n",
       "        vertical-align: middle;\n",
       "    }\n",
       "\n",
       "    .dataframe tbody tr th {\n",
       "        vertical-align: top;\n",
       "    }\n",
       "\n",
       "    .dataframe thead th {\n",
       "        text-align: right;\n",
       "    }\n",
       "</style>\n",
       "<table border=\"1\" class=\"dataframe\">\n",
       "  <thead>\n",
       "    <tr style=\"text-align: right;\">\n",
       "      <th></th>\n",
       "      <th>species</th>\n",
       "      <th>culmen_length_mm</th>\n",
       "      <th>culmen_depth_mm</th>\n",
       "      <th>flipper_length_mm</th>\n",
       "      <th>body_mass_g</th>\n",
       "    </tr>\n",
       "  </thead>\n",
       "  <tbody>\n",
       "    <tr>\n",
       "      <th>0</th>\n",
       "      <td>Adelie</td>\n",
       "      <td>39.1</td>\n",
       "      <td>18.7</td>\n",
       "      <td>181</td>\n",
       "      <td>3750</td>\n",
       "    </tr>\n",
       "    <tr>\n",
       "      <th>1</th>\n",
       "      <td>Adelie</td>\n",
       "      <td>39.5</td>\n",
       "      <td>17.4</td>\n",
       "      <td>186</td>\n",
       "      <td>3800</td>\n",
       "    </tr>\n",
       "    <tr>\n",
       "      <th>2</th>\n",
       "      <td>Adelie</td>\n",
       "      <td>40.3</td>\n",
       "      <td>18.0</td>\n",
       "      <td>195</td>\n",
       "      <td>3250</td>\n",
       "    </tr>\n",
       "    <tr>\n",
       "      <th>3</th>\n",
       "      <td>Adelie</td>\n",
       "      <td>36.7</td>\n",
       "      <td>19.3</td>\n",
       "      <td>193</td>\n",
       "      <td>3450</td>\n",
       "    </tr>\n",
       "    <tr>\n",
       "      <th>4</th>\n",
       "      <td>Adelie</td>\n",
       "      <td>39.3</td>\n",
       "      <td>20.6</td>\n",
       "      <td>190</td>\n",
       "      <td>3650</td>\n",
       "    </tr>\n",
       "  </tbody>\n",
       "</table>\n",
       "</div>"
      ],
      "text/plain": [
       "  species  culmen_length_mm  culmen_depth_mm  flipper_length_mm  body_mass_g\n",
       "0  Adelie              39.1             18.7                181         3750\n",
       "1  Adelie              39.5             17.4                186         3800\n",
       "2  Adelie              40.3             18.0                195         3250\n",
       "3  Adelie              36.7             19.3                193         3450\n",
       "4  Adelie              39.3             20.6                190         3650"
      ]
     },
     "execution_count": 2,
     "metadata": {},
     "output_type": "execute_result"
    }
   ],
   "source": [
    "df=pd.read_csv(\"Data\\penguins.csv\")\n",
    "df.head()"
   ]
  },
  {
   "cell_type": "code",
   "execution_count": 3,
   "metadata": {},
   "outputs": [],
   "source": [
    "mask = np.random.rand(len(df)) < 0.7\n",
    "\n",
    "train_culmenl = (df['culmen_length_mm'])[mask]\n",
    "test_culmenl = (df['culmen_length_mm'])[~mask]\n",
    "\n",
    "train_culmend = (df['culmen_depth_mm'])[mask]\n",
    "test_culmend = (df['culmen_depth_mm'])[~mask]\n",
    "\n",
    "train_flipper = (df['flipper_length_mm'])[mask]\n",
    "test_flipper = (df['flipper_length_mm'])[~mask]\n",
    "\n",
    "train_mass = (df['body_mass_g'])[mask]\n",
    "test_mass = (df['body_mass_g'])[~mask]\n",
    "\n",
    "train_labels = (df['species'])[mask]\n",
    "test_labels = (df['species'])[~mask]"
   ]
  },
  {
   "cell_type": "code",
   "execution_count": 4,
   "metadata": {},
   "outputs": [],
   "source": [
    "np_train_culmenl = np.array(train_culmenl)\n",
    "np_test_culmenl = np.array(test_culmenl)\n",
    "\n",
    "np_train_culmend = np.array(train_culmend)\n",
    "np_test_culmend = np.array(test_culmend)\n",
    "\n",
    "np_train_flipper = np.array(train_flipper)\n",
    "np_test_flipper = np.array(test_flipper)\n",
    "\n",
    "np_train_mass = np.array(train_mass)\n",
    "np_test_mass = np.array(test_mass)\n",
    "\n",
    "np_train_labels = np.array(train_labels)\n",
    "np_test_labels = np.array(test_labels)\n",
    "\n",
    "mu_culmenl_a = mean(np_train_culmenl[np_train_labels=='Adelie'])\n",
    "mu_culmend_a = mean(np_train_culmend[np_train_labels=='Adelie'])\n",
    "mu_flipper_a = mean(np_train_flipper[np_train_labels=='Adelie'])\n",
    "mu_mass_a = mean(np_train_mass[np_train_labels=='Adelie'])\n",
    "\n",
    "mu_culmenl_other_a = mean(np_train_culmenl[np_train_labels!='Adelie'])\n",
    "mu_culmend_other_a = mean(np_train_culmend[np_train_labels!='Adelie'])\n",
    "mu_flipper_other_a = mean(np_train_flipper[np_train_labels!='Adelie'])\n",
    "mu_mass_other_a = mean(np_train_mass[np_train_labels!='Adelie'])\n",
    "\n",
    "mu_culmenl_c = mean(np_train_culmenl[np_train_labels=='Chinstrap'])\n",
    "mu_culmend_c = mean(np_train_culmend[np_train_labels=='Chinstrap'])\n",
    "mu_flipper_c = mean(np_train_flipper[np_train_labels=='Chinstrap'])\n",
    "mu_mass_c = mean(np_train_mass[np_train_labels=='Chinstrap'])\n",
    "\n",
    "mu_culmenl_other_c = mean(np_train_culmenl[np_train_labels!='Chinstrap'])\n",
    "mu_culmend_other_c = mean(np_train_culmend[np_train_labels!='Chinstrap'])\n",
    "mu_flipper_other_c = mean(np_train_flipper[np_train_labels!='Chinstrap'])\n",
    "mu_mass_other_c = mean(np_train_mass[np_train_labels!='Chinstrap'])\n",
    "\n",
    "mu_culmenl_g = mean(np_train_culmenl[np_train_labels=='Gentoo'])\n",
    "mu_culmend_g = mean(np_train_culmend[np_train_labels=='Gentoo'])\n",
    "mu_flipper_g = mean(np_train_flipper[np_train_labels=='Gentoo'])\n",
    "mu_mass_g = mean(np_train_mass[np_train_labels=='Gentoo'])\n",
    "\n",
    "mu_culmenl_other_g = mean(np_train_culmenl[np_train_labels!='Gentoo'])\n",
    "mu_culmend_other_g = mean(np_train_culmend[np_train_labels!='Gentoo'])\n",
    "mu_flipper_other_g = mean(np_train_flipper[np_train_labels!='Gentoo'])\n",
    "mu_mass_other_g = mean(np_train_mass[np_train_labels!='Gentoo'])\n",
    "\n",
    "std_culmenl_a = np.std(np_train_culmenl[np_train_labels=='Adelie'])\n",
    "std_culmend_a = np.std(np_train_culmend[np_train_labels=='Adelie'])\n",
    "std_flipper_a = np.std(np_train_flipper[np_train_labels=='Adelie'])\n",
    "std_mass_a = np.std(np_train_mass[np_train_labels=='Adelie'])\n",
    "\n",
    "std_culmenl_other_a = np.std(np_train_culmenl[np_train_labels!='Adelie'])\n",
    "std_culmend_other_a = np.std(np_train_culmend[np_train_labels!='Adelie'])\n",
    "std_flipper_other_a = np.std(np_train_flipper[np_train_labels!='Adelie'])\n",
    "std_mass_other_a = np.std(np_train_mass[np_train_labels!='Adelie'])\n",
    "\n",
    "std_culmenl_c = np.std(np_train_culmenl[np_train_labels=='Chinstrap'])\n",
    "std_culmend_c = np.std(np_train_culmend[np_train_labels=='Chinstrap'])\n",
    "std_flipper_c = np.std(np_train_flipper[np_train_labels=='Chinstrap'])\n",
    "std_mass_c = np.std(np_train_mass[np_train_labels=='Chinstrap'])\n",
    "\n",
    "std_culmenl_other_c = np.std(np_train_culmenl[np_train_labels!='Chinstrap'])\n",
    "std_culmend_other_c = np.std(np_train_culmend[np_train_labels!='Chinstrap'])\n",
    "std_flipper_other_c = np.std(np_train_flipper[np_train_labels!='Chinstrap'])\n",
    "std_mass_other_c = np.std(np_train_mass[np_train_labels!='Chinstrap'])\n",
    "\n",
    "std_culmenl_g = np.std(np_train_culmenl[np_train_labels=='Gentoo'])\n",
    "std_culmend_g = np.std(np_train_culmend[np_train_labels=='Gentoo'])\n",
    "std_flipper_g = np.std(np_train_flipper[np_train_labels=='Gentoo'])\n",
    "std_mass_g = np.std(np_train_mass[np_train_labels=='Gentoo'])\n",
    "\n",
    "std_culmenl_other_g = np.std(np_train_culmenl[np_train_labels!='Gentoo'])\n",
    "std_culmend_other_g = np.std(np_train_culmend[np_train_labels!='Gentoo'])\n",
    "std_flipper_other_g = np.std(np_train_flipper[np_train_labels!='Gentoo'])\n",
    "std_mass_other_g = np.std(np_train_mass[np_train_labels!='Gentoo'])"
   ]
  },
  {
   "cell_type": "code",
   "execution_count": 5,
   "metadata": {},
   "outputs": [
    {
     "data": {
      "text/plain": [
       "'\\nprint(predicted_labels1)\\nprint(predicted_labels2)\\nprint(predicted_labels3)\\nprint(test_labels)\\n\\nprint(len(predicted_labels1))\\nprint(len(predicted_labels2))\\nprint(len(predicted_labels3))\\nprint(len(test_labels))\\n'"
      ]
     },
     "execution_count": 5,
     "metadata": {},
     "output_type": "execute_result"
    }
   ],
   "source": [
    "import math\n",
    "\n",
    "def guassian_pdf(mu, std, x):\n",
    "    return (1 / (math.sqrt(2*np.pi)*std)) * np.exp((-1/2)*(((x - mu)**2)/std))\n",
    "\n",
    "num_of_as = len(np_train_labels[np_train_labels=='Adelie'])\n",
    "num_of_cs = len(np_train_labels[np_train_labels=='Chinstrap'])\n",
    "num_of_gs = len(np_train_labels[np_train_labels=='Gentoo'])\n",
    "num_in_total = num_of_as + num_of_cs + num_of_gs\n",
    "\n",
    "predicted_labels1 = []\n",
    "predicted_labels2 = []\n",
    "predicted_labels3 = []\n",
    "\n",
    "for index in range(len(test_labels)):\n",
    "    pa = (num_of_as/num_in_total)*guassian_pdf(mu_culmenl_a, std_culmenl_a, np_test_culmenl[index])*guassian_pdf(mu_culmend_a, std_culmend_a, np_test_culmend[index])*guassian_pdf(mu_flipper_a, std_flipper_a, np_test_flipper[index])*guassian_pdf(mu_mass_a, std_mass_a, np_test_mass[index])\n",
    "    pc = (num_of_cs/num_in_total)*guassian_pdf(mu_culmenl_c, std_culmenl_c, np_test_culmenl[index])*guassian_pdf(mu_culmend_c, std_culmend_c, np_test_culmend[index])*guassian_pdf(mu_flipper_c, std_flipper_c, np_test_flipper[index])*guassian_pdf(mu_mass_c, std_mass_c, np_test_mass[index])\n",
    "    pg = (num_of_gs/num_in_total)*guassian_pdf(mu_culmenl_g, std_culmenl_g, np_test_culmenl[index])*guassian_pdf(mu_culmend_g, std_culmend_g, np_test_culmend[index])*guassian_pdf(mu_flipper_g, std_flipper_g, np_test_flipper[index])*guassian_pdf(mu_mass_g, std_mass_g, np_test_mass[index])\n",
    "    \n",
    "    poa = ((num_in_total - num_of_as)/num_in_total)*guassian_pdf(mu_culmenl_other_a, std_culmenl_other_a, np_test_culmenl[index])*guassian_pdf(mu_culmend_other_a, std_culmend_other_a, np_test_culmend[index])*guassian_pdf(mu_flipper_other_a, std_flipper_other_a, np_test_flipper[index])*guassian_pdf(mu_mass_other_a, std_mass_other_a, np_test_mass[index])\n",
    "    poc = ((num_in_total - num_of_cs)/num_in_total)*guassian_pdf(mu_culmenl_other_c, std_culmenl_other_c, np_test_culmenl[index])*guassian_pdf(mu_culmend_other_c, std_culmend_other_c, np_test_culmend[index])*guassian_pdf(mu_flipper_other_c, std_flipper_other_c, np_test_flipper[index])*guassian_pdf(mu_mass_other_c, std_mass_other_c, np_test_mass[index])\n",
    "    pog = ((num_in_total - num_of_gs)/num_in_total)*guassian_pdf(mu_culmenl_other_g, std_culmenl_other_g, np_test_culmenl[index])*guassian_pdf(mu_culmend_other_g, std_culmend_other_g, np_test_culmend[index])*guassian_pdf(mu_flipper_other_g, std_flipper_other_g, np_test_flipper[index])*guassian_pdf(mu_mass_other_g, std_mass_other_g, np_test_mass[index])\n",
    "    \n",
    "    if (pa > poa):\n",
    "        predicted_labels1.append('Adelie')\n",
    "    else:\n",
    "        predicted_labels1.append('other')\n",
    "        \n",
    "    if(pc > poc):\n",
    "        predicted_labels2.append('Chinstrap')\n",
    "    else:\n",
    "        predicted_labels2.append('other')\n",
    "        \n",
    "    if(pg > pog):\n",
    "        predicted_labels3.append('Gentoo')\n",
    "    else:\n",
    "        predicted_labels3.append('other')\n",
    "        \n",
    "'''\n",
    "print(predicted_labels1)\n",
    "print(predicted_labels2)\n",
    "print(predicted_labels3)\n",
    "print(test_labels)\n",
    "\n",
    "print(len(predicted_labels1))\n",
    "print(len(predicted_labels2))\n",
    "print(len(predicted_labels3))\n",
    "print(len(test_labels))\n",
    "'''\n"
   ]
  },
  {
   "cell_type": "code",
   "execution_count": 6,
   "metadata": {},
   "outputs": [],
   "source": [
    "from sklearn.metrics import confusion_matrix, ConfusionMatrixDisplay\n",
    "\n",
    "test_labels_a = []\n",
    "test_labels_c = []\n",
    "test_labels_g = []\n",
    "\n",
    "for item in test_labels:\n",
    "    if item=='Adelie':\n",
    "        test_labels_a.append(item) \n",
    "    else:\n",
    "        test_labels_a.append('other') \n",
    "        \n",
    "    if item=='Chinstrap':\n",
    "        test_labels_c.append(item)\n",
    "    else:\n",
    "        test_labels_c.append('other')\n",
    "        \n",
    "    if item=='Gentoo':\n",
    "        test_labels_g.append(item)\n",
    "    else: \n",
    "        test_labels_g.append('other')"
   ]
  },
  {
   "cell_type": "code",
   "execution_count": 7,
   "metadata": {},
   "outputs": [
    {
     "name": "stdout",
     "output_type": "stream",
     "text": [
      "accuracy: 0.7333333333333333\n",
      "precision: 0.75\n",
      "recall: 0.75\n"
     ]
    },
    {
     "data": {
      "image/png": "[encoded data removed]",
      "text/plain": [
       "<Figure size 640x480 with 2 Axes>"
      ]
     },
     "metadata": {},
     "output_type": "display_data"
    }
   ],
   "source": [
    "confusion_matrix1 = confusion_matrix(test_labels_a, predicted_labels1)\n",
    "tn, fp, fn, tp = confusion_matrix1.ravel()\n",
    "\n",
    "accuracy = sum(1 for x, y in zip(test_labels_a, predicted_labels1) if x == y) / len(test_labels_a)\n",
    "precision = tp / (tp + fp)\n",
    "recall = tp / (tp + fn)\n",
    "\n",
    "print(\"accuracy:\", accuracy)\n",
    "print(\"precision:\", precision)\n",
    "print(\"recall:\", recall)\n",
    "\n",
    "cm_display = ConfusionMatrixDisplay(confusion_matrix=confusion_matrix1, display_labels=[False, True])\n",
    "cm_display.plot()\n",
    "plt.show() "
   ]
  },
  {
   "cell_type": "code",
   "execution_count": 8,
   "metadata": {},
   "outputs": [
    {
     "name": "stdout",
     "output_type": "stream",
     "text": [
      "accuracy: 0.6666666666666666\n",
      "precision: 0.9655172413793104\n",
      "recall: 0.6292134831460674\n"
     ]
    },
    {
     "data": {
      "image/png": "[encoded data removed]",
      "text/plain": [
       "<Figure size 640x480 with 2 Axes>"
      ]
     },
     "metadata": {},
     "output_type": "display_data"
    }
   ],
   "source": [
    "confusion_matrix2 = confusion_matrix(test_labels_c, predicted_labels2)\n",
    "tn, fp, fn, tp = confusion_matrix2.ravel()\n",
    "\n",
    "accuracy = sum(1 for x, y in zip(test_labels_c, predicted_labels2) if x == y) / len(test_labels_c)\n",
    "precision = tp / (tp + fp)\n",
    "recall = tp / (tp + fn)\n",
    "\n",
    "print(\"accuracy:\", accuracy)\n",
    "print(\"precision:\", precision)\n",
    "print(\"recall:\", recall)\n",
    "\n",
    "cm_display = ConfusionMatrixDisplay(confusion_matrix=confusion_matrix2, display_labels=[False, True])\n",
    "cm_display.plot()\n",
    "plt.show() "
   ]
  },
  {
   "cell_type": "code",
   "execution_count": 9,
   "metadata": {},
   "outputs": [
    {
     "name": "stdout",
     "output_type": "stream",
     "text": [
      "accuracy: 0.9142857142857143\n",
      "precision: 0.9666666666666667\n",
      "recall: 0.8923076923076924\n"
     ]
    },
    {
     "data": {
      "image/png": "[encoded data removed]",
      "text/plain": [
       "<Figure size 640x480 with 2 Axes>"
      ]
     },
     "metadata": {},
     "output_type": "display_data"
    }
   ],
   "source": [
    "confusion_matrix3 = confusion_matrix(test_labels_g, predicted_labels3)\n",
    "tn, fp, fn, tp = confusion_matrix3.ravel()\n",
    "\n",
    "accuracy = sum(1 for x, y in zip(test_labels_g, predicted_labels3) if x == y) / len(test_labels_g)\n",
    "precision = tp / (tp + fp)\n",
    "recall = tp / (tp + fn)\n",
    "\n",
    "print(\"accuracy:\", accuracy)\n",
    "print(\"precision:\", precision)\n",
    "print(\"recall:\", recall)\n",
    "\n",
    "cm_display = ConfusionMatrixDisplay(confusion_matrix=confusion_matrix3, display_labels=[False, True])\n",
    "cm_display.plot()\n",
    "plt.show() "
   ]
  },
  {
   "cell_type": "code",
   "execution_count": 12,
   "metadata": {},
   "outputs": [],
   "source": [
    "train = []\n",
    "for x1, x2, x3, x4 in zip(train_culmenl, train_culmend, train_flipper, train_mass):\n",
    "    train.append([x1, x2, x3, x4])\n",
    "np_train = np.array(train)\n",
    "#print(np_train)"
   ]
  },
  {
   "cell_type": "code",
   "execution_count": 14,
   "metadata": {},
   "outputs": [],
   "source": [
    "train_labels_a = []\n",
    "train_labels_c = []\n",
    "train_labels_g = []\n",
    "\n",
    "for item in train_labels:\n",
    "    if item=='Adelie':\n",
    "        train_labels_a.append(item) \n",
    "    else:\n",
    "        train_labels_a.append('other') \n",
    "        \n",
    "    if item=='Chinstrap':\n",
    "        train_labels_c.append(item)\n",
    "    else:\n",
    "        train_labels_c.append('other')\n",
    "        \n",
    "    if item=='Gentoo':\n",
    "        train_labels_g.append(item)\n",
    "    else: \n",
    "        train_labels_g.append('other')\n",
    "        \n",
    "np_train_labels_a = np.array(train_labels_a)\n",
    "np_train_labels_c = np.array(train_labels_c)\n",
    "np_train_labels_g = np.array(train_labels_g)"
   ]
  },
  {
   "cell_type": "code",
   "execution_count": 16,
   "metadata": {},
   "outputs": [],
   "source": [
    "test = []\n",
    "for x1, x2, x3, x4 in zip(test_culmenl, test_culmend, test_flipper, test_mass):\n",
    "    test.append([x1, x2, x3, x4])\n",
    "np_test = np.array(test)\n",
    "#print(np_test)"
   ]
  },
  {
   "cell_type": "code",
   "execution_count": 19,
   "metadata": {},
   "outputs": [],
   "source": [
    "from sklearn.multiclass import OneVsRestClassifier\n",
    "from sklearn.naive_bayes import GaussianNB\n",
    "\n",
    "GNBclf_a = GaussianNB()\n",
    "model_a = GNBclf_a.fit(np_train, np_train_labels_a)\n",
    "preds_a = GNBclf_a.predict(test)\n",
    "\n",
    "GNBclf_c = GaussianNB()\n",
    "model_c = GNBclf_c.fit(np_train, np_train_labels_c)\n",
    "preds_c = GNBclf_c.predict(test)\n",
    "\n",
    "GNBclf_g = GaussianNB()\n",
    "model_g = GNBclf_g.fit(np_train, np_train_labels_g)\n",
    "preds_g = GNBclf_g.predict(test)"
   ]
  },
  {
   "cell_type": "code",
   "execution_count": 26,
   "metadata": {},
   "outputs": [
    {
     "name": "stdout",
     "output_type": "stream",
     "text": [
      "accuracy: 0.9523809523809523\n",
      "precision: 0.9811320754716981\n",
      "recall: 0.9285714285714286\n"
     ]
    },
    {
     "data": {
      "image/png": "[encoded data removed]",
      "text/plain": [
       "<Figure size 640x480 with 2 Axes>"
      ]
     },
     "metadata": {},
     "output_type": "display_data"
    }
   ],
   "source": [
    "confusion_matrix4 = confusion_matrix(test_labels_a, preds_a)\n",
    "tn, fp, fn, tp = confusion_matrix4.ravel()\n",
    "\n",
    "accuracy = sum(1 for x, y in zip(test_labels_a, preds_a) if x == y) / len(test_labels_a)\n",
    "precision = tp / (tp + fp)\n",
    "recall = tp / (tp + fn)\n",
    "\n",
    "print(\"accuracy:\", accuracy)\n",
    "print(\"precision:\", precision)\n",
    "print(\"recall:\", recall)\n",
    "\n",
    "cm_display = ConfusionMatrixDisplay(confusion_matrix=confusion_matrix4, display_labels=[False, True])\n",
    "cm_display.plot()\n",
    "plt.show() "
   ]
  },
  {
   "cell_type": "code",
   "execution_count": 27,
   "metadata": {},
   "outputs": [
    {
     "name": "stdout",
     "output_type": "stream",
     "text": [
      "accuracy: 0.9809523809523809\n",
      "precision: 0.978021978021978\n",
      "recall: 1.0\n"
     ]
    },
    {
     "data": {
      "image/png": "[encoded data removed]",
      "text/plain": [
       "<Figure size 640x480 with 2 Axes>"
      ]
     },
     "metadata": {},
     "output_type": "display_data"
    }
   ],
   "source": [
    "confusion_matrix5 = confusion_matrix(test_labels_c, preds_c)\n",
    "tn, fp, fn, tp = confusion_matrix5.ravel()\n",
    "\n",
    "accuracy = sum(1 for x, y in zip(test_labels_c, preds_c) if x == y) / len(test_labels_c)\n",
    "precision = tp / (tp + fp)\n",
    "recall = tp / (tp + fn)\n",
    "\n",
    "print(\"accuracy:\", accuracy)\n",
    "print(\"precision:\", precision)\n",
    "print(\"recall:\", recall)\n",
    "\n",
    "cm_display = ConfusionMatrixDisplay(confusion_matrix=confusion_matrix5, display_labels=[False, True])\n",
    "cm_display.plot()\n",
    "plt.show() "
   ]
  },
  {
   "cell_type": "code",
   "execution_count": 28,
   "metadata": {},
   "outputs": [
    {
     "name": "stdout",
     "output_type": "stream",
     "text": [
      "accuracy: 1.0\n",
      "precision: 1.0\n",
      "recall: 1.0\n"
     ]
    },
    {
     "data": {
      "image/png": "[encoded data removed]",
      "text/plain": [
       "<Figure size 640x480 with 2 Axes>"
      ]
     },
     "metadata": {},
     "output_type": "display_data"
    }
   ],
   "source": [
    "confusion_matrix6 = confusion_matrix(test_labels_g, preds_g)\n",
    "tn, fp, fn, tp = confusion_matrix6.ravel()\n",
    "\n",
    "accuracy = sum(1 for x, y in zip(test_labels_g, preds_g) if x == y) / len(test_labels_g)\n",
    "precision = tp / (tp + fp)\n",
    "recall = tp / (tp + fn)\n",
    "\n",
    "print(\"accuracy:\", accuracy)\n",
    "print(\"precision:\", precision)\n",
    "print(\"recall:\", recall)\n",
    "\n",
    "cm_display = ConfusionMatrixDisplay(confusion_matrix=confusion_matrix6, display_labels=[False, True])\n",
    "cm_display.plot()\n",
    "plt.show() "
   ]
  }
 ],
 "metadata": {
  "colab": {
   "collapsed_sections": [],
   "name": "Taban_Soleymani_StudentNumber_HomeworkBonus(1).ipynb",
   "provenance": []
  },
  "kernelspec": {
   "display_name": "Python 3 (ipykernel)",
   "language": "python",
   "name": "python3"
  },
  "language_info": {
   "codemirror_mode": {
    "name": "ipython",
    "version": 3
   },
   "file_extension": ".py",
   "mimetype": "text/x-python",
   "name": "python",
   "nbconvert_exporter": "python",
   "pygments_lexer": "ipython3",
   "version": "3.11.2"
  },
  "vscode": {
   "interpreter": {
    "hash": "690fcc030dbde6f3f652c519b06a0d95da528e66105ed58c88e506e5818277cb"
   }
  }
 },
 "nbformat": 4,
 "nbformat_minor": 1
}
