{
 "cells": [
  {
   "cell_type": "markdown",
   "metadata": {
    "id": "k4O0IbnJo1UY"
   },
   "source": [
    "# <font color='green'>Homework 4</font>\n",
    "\n",
    "<div class=\"alert alert-block alert-warning\">\n",
    "<b>\n",
    "University of Tehran<br>\n",
    "Spring 2023<br>\n",
    "Course: Machine Learning<br>\n",
    "</div>\n",
    "\n",
    "\n",
    "***"
   ]
  },
  {
   "cell_type": "markdown",
   "metadata": {
    "id": "LaDWQq1Ko1Ub"
   },
   "source": [
    "<div class=\"alert alert-block alert-success\">\n",
    "<b>Author:</b><br>\n",
    "Name: Taban Soleymani <br />\n",
    "Student Number: 810100377\n",
    "</div>\n",
    "\n",
    "***"
   ]
  },
  {
   "cell_type": "markdown",
   "metadata": {
    "id": "B-EvwGlDpwlY"
   },
   "source": [
    "# <span style=\"color:purple\">Question 6</span>"
   ]
  },
  {
   "cell_type": "code",
   "execution_count": 46,
   "metadata": {
    "id": "SDMpzOUopwlY"
   },
   "outputs": [],
   "source": [
    "threshold = 1e-3\n",
    "N_ = 1000\n",
    "p_s = 0.51\n",
    "p_f = 0.49\n",
    "accuracy = 0"
   ]
  },
  {
   "cell_type": "code",
   "execution_count": 47,
   "metadata": {
    "id": "KtlMn3gMpwlZ",
    "outputId": "cf2f3973-30b8-4dc5-c1fc-c9d89a334672"
   },
   "outputs": [
    {
     "name": "stdout",
     "output_type": "stream",
     "text": [
      "55\n"
     ]
    },
    {
     "data": {
      "text/plain": [
       "0.5540384244476253"
      ]
     },
     "execution_count": 47,
     "metadata": {},
     "output_type": "execute_result"
    }
   ],
   "source": [
    "import math\n",
    "\n",
    "for N in range(5, N_, 2):\n",
    "    temp = (math.factorial(N)/(math.factorial(int((N+1)/2))*math.factorial(int((N-1)/2))))/(2**N)\n",
    "    temp = (temp + 1)/2\n",
    "    if abs(temp - accuracy) < threshold:\n",
    "        break\n",
    "    accuracy = temp\n",
    "\n",
    "print(N)\n",
    "accuracy"
   ]
  }
 ],
 "metadata": {
  "colab": {
   "provenance": []
  },
  "kernelspec": {
   "display_name": "Python 3 (ipykernel)",
   "language": "python",
   "name": "python3"
  },
  "language_info": {
   "codemirror_mode": {
    "name": "ipython",
    "version": 3
   },
   "file_extension": ".py",
   "mimetype": "text/x-python",
   "name": "python",
   "nbconvert_exporter": "python",
   "pygments_lexer": "ipython3",
   "version": "3.11.2"
  },
  "vscode": {
   "interpreter": {
    "hash": "690fcc030dbde6f3f652c519b06a0d95da528e66105ed58c88e506e5818277cb"
   }
  }
 },
 "nbformat": 4,
 "nbformat_minor": 1
}
